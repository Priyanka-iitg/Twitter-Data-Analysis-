{
 "cells": [
  {
   "cell_type": "code",
   "execution_count": 59,
   "id": "688e0f25",
   "metadata": {},
   "outputs": [],
   "source": [
    "#Import the required libraries\n",
    "import re\n",
    "import csv\n",
    "from getpass import getpass\n",
    "from time import sleep\n",
    "from selenium.webdriver.common.keys import Keys\n",
    "from selenium.common.exceptions import NoSuchElementException\n",
    "from selenium.webdriver import Chrome"
   ]
  },
  {
   "cell_type": "code",
   "execution_count": 60,
   "id": "6adb8a9d",
   "metadata": {},
   "outputs": [],
   "source": [
    "driver=Chrome()"
   ]
  },
  {
   "cell_type": "code",
   "execution_count": 61,
   "id": "f870d459",
   "metadata": {},
   "outputs": [],
   "source": [
    "driver.get('https://twitter.com/i/flow/login')"
   ]
  },
  {
   "cell_type": "code",
   "execution_count": 62,
   "id": "3d737579",
   "metadata": {},
   "outputs": [],
   "source": [
    "#Login to your twitter account\n",
    "username=driver.find_element('xpath','//input[@name=\"text\"]')\n",
    "username.send_keys('priyankasingh1392000@gmail.com')"
   ]
  },
  {
   "cell_type": "code",
   "execution_count": 63,
   "id": "f64d6665",
   "metadata": {},
   "outputs": [],
   "source": [
    "username.send_keys(Keys.RETURN)"
   ]
  },
  {
   "cell_type": "code",
   "execution_count": 64,
   "id": "b0e5e2a9",
   "metadata": {},
   "outputs": [
    {
     "name": "stdout",
     "output_type": "stream",
     "text": [
      "········\n"
     ]
    }
   ],
   "source": [
    "my_password=getpass()"
   ]
  },
  {
   "cell_type": "code",
   "execution_count": 65,
   "id": "2fd83fe1",
   "metadata": {},
   "outputs": [],
   "source": [
    "password=driver.find_element('xpath','//input[@name=\"password\"]')\n",
    "password.send_keys(my_password)\n",
    "password.send_keys(Keys.RETURN)"
   ]
  },
  {
   "cell_type": "code",
   "execution_count": null,
   "id": "dbe4cd0d",
   "metadata": {},
   "outputs": [],
   "source": []
  },
  {
   "cell_type": "markdown",
   "id": "4228712d",
   "metadata": {},
   "source": [
    "## Make a function to retrieve information from a single profile"
   ]
  },
  {
   "cell_type": "code",
   "execution_count": 66,
   "id": "80e71db4",
   "metadata": {},
   "outputs": [],
   "source": [
    "# defining the function for twitter search\n",
    "def twitter_search(driver,search_term):\n",
    "    url='https://twitter.com/i/flow/login'\n",
    "    \n",
    "    driver.get(url)\n",
    "    driver.maximize_window()\n",
    "    sleep(5)\n",
    "    return True\n",
    "\n",
    "\n",
    "    "
   ]
  },
  {
   "cell_type": "code",
   "execution_count": 68,
   "id": "827e98c3",
   "metadata": {},
   "outputs": [],
   "source": [
    "def generate_tweet_id(tweet):\n",
    "    return ''.join(tweet)"
   ]
  },
  {
   "cell_type": "code",
   "execution_count": 69,
   "id": "108f7687",
   "metadata": {},
   "outputs": [],
   "source": [
    "def scroll_down_page(driver, last_position, num_seconds_to_load=0.5, scroll_attempt=0, max_attempts=5):\n",
    "    \"\"\"The function will try to scroll down the page and will check the current\n",
    "    and last positions as an indicator. If the current and last positions are the same after `max_attempts`\n",
    "    the assumption is that the end of the scroll region has been reached and the `end_of_scroll_region`\n",
    "    flag will be returned as `True`\"\"\"\n",
    "    end_of_scroll_region = False\n",
    "    driver.execute_script(\"window.scrollTo(0, document.body.scrollHeight);\")\n",
    "    sleep(num_seconds_to_load)\n",
    "    curr_position = driver.execute_script(\"return window.pageYOffset;\")\n",
    "    if curr_position == last_position:\n",
    "        if scroll_attempt < max_attempts:\n",
    "            end_of_scroll_region = True\n",
    "        else:\n",
    "            scroll_down_page(last_position, curr_position, scroll_attempt + 1)\n",
    "    last_position = curr_position\n",
    "    return last_position, end_of_scroll_region"
   ]
  },
  {
   "cell_type": "code",
   "execution_count": null,
   "id": "c2b5cae7",
   "metadata": {},
   "outputs": [],
   "source": [
    "def save_tweet_data_to_csv(records, filepath, mode='a+'):\n",
    "    header = ['User', 'Handle', 'PostDate', 'TweetText', 'ReplyCount', 'RetweetCount', 'LikeCount']\n",
    "    with open(filepath, mode=mode, newline='', encoding='utf-8') as f:\n",
    "        writer = csv.writer(f)\n",
    "        if mode == 'w':\n",
    "            writer.writerow(header)\n",
    "        if records:\n",
    "            writer.writerow(records)"
   ]
  },
  {
   "cell_type": "code",
   "execution_count": 36,
   "id": "f240fae7",
   "metadata": {},
   "outputs": [],
   "source": [
    "#Search for an account\n",
    "search_input=driver.find_element('xpath','//input[@aria-label=\"Search query\"]')\n",
    "# search_input.send_keys(\"Shah Rukh Khan\")\n",
    "# search_input.send_keys(Keys.RETURN)"
   ]
  },
  {
   "cell_type": "code",
   "execution_count": 50,
   "id": "ebb34bc4",
   "metadata": {},
   "outputs": [],
   "source": [
    "# names=['Virat Kohli','Shah Rukh Khan']"
   ]
  },
  {
   "cell_type": "code",
   "execution_count": null,
   "id": "ed09ff8a",
   "metadata": {},
   "outputs": [],
   "source": []
  },
  {
   "cell_type": "code",
   "execution_count": 51,
   "id": "5815f2fa",
   "metadata": {},
   "outputs": [
    {
     "ename": "WebDriverException",
     "evalue": "Message: chrome not reachable\n  (Session info: chrome=104.0.5112.102)\nStacktrace:\nBacktrace:\n\tOrdinal0 [0x00C578B3+2193587]\n\tOrdinal0 [0x00BF0681+1771137]\n\tOrdinal0 [0x00B04070+802928]\n\tOrdinal0 [0x00AF9AB2+760498]\n\tOrdinal0 [0x00AECEAF+708271]\n\tOrdinal0 [0x00AF1142+725314]\n\tOrdinal0 [0x00AF55C9+742857]\n\tOrdinal0 [0x00B05500+808192]\n\tOrdinal0 [0x00B5D2C2+1168066]\n\tOrdinal0 [0x00B4D5C6+1103302]\n\tOrdinal0 [0x00B277E0+948192]\n\tOrdinal0 [0x00B286E6+952038]\n\tGetHandleVerifier [0x00F00CB2+2738370]\n\tGetHandleVerifier [0x00EF21B8+2678216]\n\tGetHandleVerifier [0x00CE17AA+512954]\n\tGetHandleVerifier [0x00CE0856+509030]\n\tOrdinal0 [0x00BF743B+1799227]\n\tOrdinal0 [0x00BFBB68+1817448]\n\tOrdinal0 [0x00BFBC55+1817685]\n\tOrdinal0 [0x00C05230+1856048]\n\tBaseThreadInitThunk [0x7552FA29+25]\n\tRtlGetAppContainerNamedObjectPath [0x76EE7A9E+286]\n\tRtlGetAppContainerNamedObjectPath [0x76EE7A6E+238]\n",
     "output_type": "error",
     "traceback": [
      "\u001b[1;31m---------------------------------------------------------------------------\u001b[0m",
      "\u001b[1;31mWebDriverException\u001b[0m                        Traceback (most recent call last)",
      "\u001b[1;32m~\\AppData\\Local\\Temp/ipykernel_2496/752088247.py\u001b[0m in \u001b[0;36m<module>\u001b[1;34m\u001b[0m\n\u001b[1;32m----> 1\u001b[1;33m \u001b[0msearch_input\u001b[0m\u001b[1;33m.\u001b[0m\u001b[0msend_keys\u001b[0m\u001b[1;33m(\u001b[0m\u001b[1;34m\"Shah Rukh Khan\"\u001b[0m\u001b[1;33m)\u001b[0m\u001b[1;33m\u001b[0m\u001b[1;33m\u001b[0m\u001b[0m\n\u001b[0m\u001b[0;32m      2\u001b[0m \u001b[0msearch_input\u001b[0m\u001b[1;33m.\u001b[0m\u001b[0msend_keys\u001b[0m\u001b[1;33m(\u001b[0m\u001b[0mKeys\u001b[0m\u001b[1;33m.\u001b[0m\u001b[0mRETURN\u001b[0m\u001b[1;33m)\u001b[0m\u001b[1;33m\u001b[0m\u001b[1;33m\u001b[0m\u001b[0m\n",
      "\u001b[1;32m~\\anaconda3\\lib\\site-packages\\selenium\\webdriver\\remote\\webelement.py\u001b[0m in \u001b[0;36msend_keys\u001b[1;34m(self, *value)\u001b[0m\n\u001b[0;32m    221\u001b[0m                 \u001b[0mvalue\u001b[0m \u001b[1;33m=\u001b[0m \u001b[1;34m'\\n'\u001b[0m\u001b[1;33m.\u001b[0m\u001b[0mjoin\u001b[0m\u001b[1;33m(\u001b[0m\u001b[0mremote_files\u001b[0m\u001b[1;33m)\u001b[0m\u001b[1;33m\u001b[0m\u001b[1;33m\u001b[0m\u001b[0m\n\u001b[0;32m    222\u001b[0m \u001b[1;33m\u001b[0m\u001b[0m\n\u001b[1;32m--> 223\u001b[1;33m         self._execute(Command.SEND_KEYS_TO_ELEMENT,\n\u001b[0m\u001b[0;32m    224\u001b[0m                       {'text': \"\".join(keys_to_typing(value)),\n\u001b[0;32m    225\u001b[0m                        'value': keys_to_typing(value)})\n",
      "\u001b[1;32m~\\anaconda3\\lib\\site-packages\\selenium\\webdriver\\remote\\webelement.py\u001b[0m in \u001b[0;36m_execute\u001b[1;34m(self, command, params)\u001b[0m\n\u001b[0;32m    394\u001b[0m             \u001b[0mparams\u001b[0m \u001b[1;33m=\u001b[0m \u001b[1;33m{\u001b[0m\u001b[1;33m}\u001b[0m\u001b[1;33m\u001b[0m\u001b[1;33m\u001b[0m\u001b[0m\n\u001b[0;32m    395\u001b[0m         \u001b[0mparams\u001b[0m\u001b[1;33m[\u001b[0m\u001b[1;34m'id'\u001b[0m\u001b[1;33m]\u001b[0m \u001b[1;33m=\u001b[0m \u001b[0mself\u001b[0m\u001b[1;33m.\u001b[0m\u001b[0m_id\u001b[0m\u001b[1;33m\u001b[0m\u001b[1;33m\u001b[0m\u001b[0m\n\u001b[1;32m--> 396\u001b[1;33m         \u001b[1;32mreturn\u001b[0m \u001b[0mself\u001b[0m\u001b[1;33m.\u001b[0m\u001b[0m_parent\u001b[0m\u001b[1;33m.\u001b[0m\u001b[0mexecute\u001b[0m\u001b[1;33m(\u001b[0m\u001b[0mcommand\u001b[0m\u001b[1;33m,\u001b[0m \u001b[0mparams\u001b[0m\u001b[1;33m)\u001b[0m\u001b[1;33m\u001b[0m\u001b[1;33m\u001b[0m\u001b[0m\n\u001b[0m\u001b[0;32m    397\u001b[0m \u001b[1;33m\u001b[0m\u001b[0m\n\u001b[0;32m    398\u001b[0m     \u001b[1;32mdef\u001b[0m \u001b[0mfind_element\u001b[0m\u001b[1;33m(\u001b[0m\u001b[0mself\u001b[0m\u001b[1;33m,\u001b[0m \u001b[0mby\u001b[0m\u001b[1;33m=\u001b[0m\u001b[0mBy\u001b[0m\u001b[1;33m.\u001b[0m\u001b[0mID\u001b[0m\u001b[1;33m,\u001b[0m \u001b[0mvalue\u001b[0m\u001b[1;33m=\u001b[0m\u001b[1;32mNone\u001b[0m\u001b[1;33m)\u001b[0m \u001b[1;33m->\u001b[0m \u001b[0mWebElement\u001b[0m\u001b[1;33m:\u001b[0m\u001b[1;33m\u001b[0m\u001b[1;33m\u001b[0m\u001b[0m\n",
      "\u001b[1;32m~\\anaconda3\\lib\\site-packages\\selenium\\webdriver\\remote\\webdriver.py\u001b[0m in \u001b[0;36mexecute\u001b[1;34m(self, driver_command, params)\u001b[0m\n\u001b[0;32m    426\u001b[0m         \u001b[0mresponse\u001b[0m \u001b[1;33m=\u001b[0m \u001b[0mself\u001b[0m\u001b[1;33m.\u001b[0m\u001b[0mcommand_executor\u001b[0m\u001b[1;33m.\u001b[0m\u001b[0mexecute\u001b[0m\u001b[1;33m(\u001b[0m\u001b[0mdriver_command\u001b[0m\u001b[1;33m,\u001b[0m \u001b[0mparams\u001b[0m\u001b[1;33m)\u001b[0m\u001b[1;33m\u001b[0m\u001b[1;33m\u001b[0m\u001b[0m\n\u001b[0;32m    427\u001b[0m         \u001b[1;32mif\u001b[0m \u001b[0mresponse\u001b[0m\u001b[1;33m:\u001b[0m\u001b[1;33m\u001b[0m\u001b[1;33m\u001b[0m\u001b[0m\n\u001b[1;32m--> 428\u001b[1;33m             \u001b[0mself\u001b[0m\u001b[1;33m.\u001b[0m\u001b[0merror_handler\u001b[0m\u001b[1;33m.\u001b[0m\u001b[0mcheck_response\u001b[0m\u001b[1;33m(\u001b[0m\u001b[0mresponse\u001b[0m\u001b[1;33m)\u001b[0m\u001b[1;33m\u001b[0m\u001b[1;33m\u001b[0m\u001b[0m\n\u001b[0m\u001b[0;32m    429\u001b[0m             response['value'] = self._unwrap_value(\n\u001b[0;32m    430\u001b[0m                 response.get('value', None))\n",
      "\u001b[1;32m~\\anaconda3\\lib\\site-packages\\selenium\\webdriver\\remote\\errorhandler.py\u001b[0m in \u001b[0;36mcheck_response\u001b[1;34m(self, response)\u001b[0m\n\u001b[0;32m    241\u001b[0m                 \u001b[0malert_text\u001b[0m \u001b[1;33m=\u001b[0m \u001b[0mvalue\u001b[0m\u001b[1;33m[\u001b[0m\u001b[1;34m'alert'\u001b[0m\u001b[1;33m]\u001b[0m\u001b[1;33m.\u001b[0m\u001b[0mget\u001b[0m\u001b[1;33m(\u001b[0m\u001b[1;34m'text'\u001b[0m\u001b[1;33m)\u001b[0m\u001b[1;33m\u001b[0m\u001b[1;33m\u001b[0m\u001b[0m\n\u001b[0;32m    242\u001b[0m             \u001b[1;32mraise\u001b[0m \u001b[0mexception_class\u001b[0m\u001b[1;33m(\u001b[0m\u001b[0mmessage\u001b[0m\u001b[1;33m,\u001b[0m \u001b[0mscreen\u001b[0m\u001b[1;33m,\u001b[0m \u001b[0mstacktrace\u001b[0m\u001b[1;33m,\u001b[0m \u001b[0malert_text\u001b[0m\u001b[1;33m)\u001b[0m  \u001b[1;31m# type: ignore[call-arg]  # mypy is not smart enough here\u001b[0m\u001b[1;33m\u001b[0m\u001b[1;33m\u001b[0m\u001b[0m\n\u001b[1;32m--> 243\u001b[1;33m         \u001b[1;32mraise\u001b[0m \u001b[0mexception_class\u001b[0m\u001b[1;33m(\u001b[0m\u001b[0mmessage\u001b[0m\u001b[1;33m,\u001b[0m \u001b[0mscreen\u001b[0m\u001b[1;33m,\u001b[0m \u001b[0mstacktrace\u001b[0m\u001b[1;33m)\u001b[0m\u001b[1;33m\u001b[0m\u001b[1;33m\u001b[0m\u001b[0m\n\u001b[0m",
      "\u001b[1;31mWebDriverException\u001b[0m: Message: chrome not reachable\n  (Session info: chrome=104.0.5112.102)\nStacktrace:\nBacktrace:\n\tOrdinal0 [0x00C578B3+2193587]\n\tOrdinal0 [0x00BF0681+1771137]\n\tOrdinal0 [0x00B04070+802928]\n\tOrdinal0 [0x00AF9AB2+760498]\n\tOrdinal0 [0x00AECEAF+708271]\n\tOrdinal0 [0x00AF1142+725314]\n\tOrdinal0 [0x00AF55C9+742857]\n\tOrdinal0 [0x00B05500+808192]\n\tOrdinal0 [0x00B5D2C2+1168066]\n\tOrdinal0 [0x00B4D5C6+1103302]\n\tOrdinal0 [0x00B277E0+948192]\n\tOrdinal0 [0x00B286E6+952038]\n\tGetHandleVerifier [0x00F00CB2+2738370]\n\tGetHandleVerifier [0x00EF21B8+2678216]\n\tGetHandleVerifier [0x00CE17AA+512954]\n\tGetHandleVerifier [0x00CE0856+509030]\n\tOrdinal0 [0x00BF743B+1799227]\n\tOrdinal0 [0x00BFBB68+1817448]\n\tOrdinal0 [0x00BFBC55+1817685]\n\tOrdinal0 [0x00C05230+1856048]\n\tBaseThreadInitThunk [0x7552FA29+25]\n\tRtlGetAppContainerNamedObjectPath [0x76EE7A9E+286]\n\tRtlGetAppContainerNamedObjectPath [0x76EE7A6E+238]\n"
     ]
    }
   ],
   "source": [
    "search_input.send_keys(\"Shah Rukh Khan\")\n",
    "search_input.send_keys(Keys.RETURN)"
   ]
  },
  {
   "cell_type": "code",
   "execution_count": 38,
   "id": "fdc00db3",
   "metadata": {},
   "outputs": [
    {
     "data": {
      "text/plain": [
       "<selenium.webdriver.remote.webelement.WebElement (session=\"c4949ae67dec91278a56a05579d3cb21\", element=\"d549e574-cffa-4574-9599-23ebf070e1ef\")>"
      ]
     },
     "execution_count": 38,
     "metadata": {},
     "output_type": "execute_result"
    }
   ],
   "source": [
    "enter_profile=driver.find_element('link text','Shah Rukh Khan')\n",
    "enter_profile"
   ]
  },
  {
   "cell_type": "code",
   "execution_count": 39,
   "id": "565bfe4c",
   "metadata": {},
   "outputs": [],
   "source": [
    "enter_profile.click()"
   ]
  },
  {
   "cell_type": "code",
   "execution_count": 41,
   "id": "1adaa921",
   "metadata": {},
   "outputs": [
    {
     "data": {
      "text/plain": [
       "[<selenium.webdriver.remote.webelement.WebElement (session=\"c4949ae67dec91278a56a05579d3cb21\", element=\"13891b2f-5f55-4cba-9524-4b0811f1520c\")>,\n",
       " <selenium.webdriver.remote.webelement.WebElement (session=\"c4949ae67dec91278a56a05579d3cb21\", element=\"423a7f51-8283-46ec-b1ea-2aaed1d1bdeb\")>,\n",
       " <selenium.webdriver.remote.webelement.WebElement (session=\"c4949ae67dec91278a56a05579d3cb21\", element=\"45758cce-9ff0-43be-b456-fdfacb2d6be6\")>]"
      ]
     },
     "execution_count": 41,
     "metadata": {},
     "output_type": "execute_result"
    }
   ],
   "source": [
    "cards=driver.find_elements('xpath','//div[@data-testid=\"tweetText\"]')\n",
    "cards"
   ]
  },
  {
   "cell_type": "code",
   "execution_count": null,
   "id": "525d0d49",
   "metadata": {},
   "outputs": [],
   "source": [
    "card=cards[0]"
   ]
  }
 ],
 "metadata": {
  "kernelspec": {
   "display_name": "Python 3 (ipykernel)",
   "language": "python",
   "name": "python3"
  },
  "language_info": {
   "codemirror_mode": {
    "name": "ipython",
    "version": 3
   },
   "file_extension": ".py",
   "mimetype": "text/x-python",
   "name": "python",
   "nbconvert_exporter": "python",
   "pygments_lexer": "ipython3",
   "version": "3.9.7"
  }
 },
 "nbformat": 4,
 "nbformat_minor": 5
}
